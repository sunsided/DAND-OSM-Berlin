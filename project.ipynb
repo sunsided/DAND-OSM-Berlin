{
 "cells": [
  {
   "cell_type": "markdown",
   "metadata": {},
   "source": [
    "# Data Wrangling on OpenStreetMaps"
   ]
  },
  {
   "cell_type": "markdown",
   "metadata": {},
   "source": [
    "A part of the requirements of this project is to process an OpenStreetMaps region of at least 50 MB (uncompressed) data. The use of a smaller extract of the selected region is suggested for testing.\n",
    "\n",
    "In this project we're going to deal with OpenStreetMap data of Berlin, Germany.\n",
    "Two regions were used:\n",
    "\n",
    "* A custom crop of the Berlin city area:\n",
    "    * Region: `52.3319824..52.6797125 N`, `13.0709838..13.7741088 E` ([OSM](http://www.openstreetmap.org/#map=11/52.5062/13.4222)).\n",
    "    * `101 MB` compressed, `1.4 GB` decompressed XML, and\n",
    "* A smaller sample of the Mitte district of Berlin:\n",
    "    * Region: `52.52912..52.53794 N`, `13.39977..13.40550 E` ([OSM](http://www.openstreetmap.org/#map=17/52.53110/13.40201)).\n",
    "    * `148 KB` compressed, `1.9 MB` decompressed XML.\n",
    "    \n",
    "To get a feeling of the area, here's a map of [Berlin districts](https://en.wikipedia.org/wiki/Boroughs_and_neighborhoods_of_Berlin):\n",
    "\n",
    "![](assets/district-map.png)\n",
    "    \n",
    "We can query the files directly for their size and find that the Berlin Mitte extract is indeed 1.9 MB (uncompressed) XML:"
   ]
  },
  {
   "cell_type": "code",
   "execution_count": 1,
   "metadata": {},
   "outputs": [
    {
     "data": {
      "text/plain": [
       "1.9322547912597656"
      ]
     },
     "execution_count": 1,
     "metadata": {},
     "output_type": "execute_result"
    }
   ],
   "source": [
    "import os\n",
    "def file_size(path: str, scale: float=1024*1024):\n",
    "    return os.path.getsize(path) / scale\n",
    "file_size('osm-extracts/berlin-mitte.osm')"
   ]
  },
  {
   "cell_type": "markdown",
   "metadata": {},
   "source": [
    "The \"full\" Berlin extracts are 1.4 GB (uncompressed) and 101 MB (compressed) respectively:"
   ]
  },
  {
   "cell_type": "code",
   "execution_count": 2,
   "metadata": {
    "scrolled": true
   },
   "outputs": [
    {
     "data": {
      "text/plain": [
       "(1448.0486783981323, 101.01312637329102)"
      ]
     },
     "execution_count": 2,
     "metadata": {},
     "output_type": "execute_result"
    }
   ],
   "source": [
    "file_size('osm-extracts/berlin.osm'), file_size('osm-extracts/berlin.osm.bz2')"
   ]
  },
  {
   "cell_type": "markdown",
   "metadata": {},
   "source": [
    "The data was obtained by querying the OpenStreetMaps Overpass API's XAPI wrapper at `http://www.overpass-api.de/api/xapi` using the following parameters:\n",
    "\n",
    "- `*[bbox=13.39977,52.52912,13.40550,52.53794][@meta]`\n",
    "- `*[bbox=13.0709838,52.3319824,13.7741088,52.6797125][@meta][@timeout=3600]`\n",
    "\n",
    "Specifically for the whole Berlin area a `timeout` of one hour was used. Data can be downloaded using e.g. `wget` using a command like the following:\n",
    "\n",
    "```bash\n",
    "wget -O berlin-mitte.osm 'http://www.overpass-api.de/api/xapi?*[bbox=13.39977,52.52912,13.40550,52.53794][@meta]'\n",
    "```\n",
    "\n",
    "The file `find_tags.py` scans the OSM XML file for XML tags in use and prints them to the standard output. Running\n",
    "\n",
    "```bash\n",
    "python find_tags.py osm-extracts/berlin.xml.bz2\n",
    "```\n",
    "\n",
    "gives the following result:\n",
    "\n",
    "```\n",
    "         1 osm\n",
    "    935054 osm.way\n",
    "         1 osm.note\n",
    "         1 osm.meta\n",
    "   6007591 osm.node\n",
    "   7429706 osm.way.nd\n",
    "   2738476 osm.way.tag\n",
    "   3215139 osm.node.tag\n",
    "     14715 osm.relation\n",
    "     78089 osm.relation.tag\n",
    "    325599 osm.relation.member\n",
    "```\n",
    "\n",
    "We correctly find one `osm` tag (the root element), as well as one `note` and `meta` element describing the data. We also see 6007591 `node` elements, 935054 `way` elements, as well as 14715 `relation` entries. We will obtain the same numbers later by querying the database.\n",
    "\n",
    "Another file, `find_tag_keys.py` obtains all `tag` key attributes in order to get an overview of the actual data (apart from geocoordinates). An excerpt from the output is\n",
    "\n",
    "```\n",
    "         2 abandoned:place\n",
    "        46 access\n",
    "      1004 addr:city\n",
    "       966 addr:country\n",
    "         2 addr:flats\n",
    "         2 addr:housename\n",
    "      1030 addr:housenumber\n",
    "         4 addr:inclusion\n",
    "      1010 addr:postcode\n",
    "      1027 addr:street\n",
    "       970 addr:suburb\n",
    "...\n",
    "       317 wheelchair\n",
    "         8 wheelchair:description\n",
    "        23 wikidata\n",
    "        19 wikipedia\n",
    "         2 workrules\n",
    "```\n",
    "\n",
    "however the whole list is too long to replicate in this document.\n",
    "\n",
    "## Automatic auditing of errors\n",
    "\n",
    "Rather than converting the OSM XML file to actual JSON first in order to then import it to MongoDB, the data was converted to BSON directly and inserted to MongoDB on the fly while parsing the file. This is implemented in `import.py`, which makes use of an auditing pipeline for automated data cleaning. Since we're going to be dealing with street information in this project, the chosen automatic correction is related to street names.\n",
    "\n",
    "A common theme in street names in Germany is the relation of streets to locations and people, suffixed by the type of the street. For a location - e.g. a city - the name is composed by the location name suffixed by `e` or `er`, followed by a blank, followed by the street type; an example of this would be `Französische Straße`, which is a street related to France. For a person, the persons name is directly composed with the street type; `Einsteinstraße` would be an example for this. However, the opposite need not be true: While the name `Derfflingerstraße` suggests a place called `Derffling` (which doesn't exist) due to suffix `er`, it is actually about [Georg von Derfflinger](https://en.wikipedia.org/wiki/Georg_von_Derfflinger). Lastly, the word `Straße` is usually abbreviated with `Str.`.\n",
    "\n",
    "Common errors in street names are the use of an extra gap, e.g. `Einstein Straße`, missing dashes (e.g. `Ernst Zinna Weg` instead of `Ernst-Zinna-Weg`), or missing letters (`...staße` instead of `...straße`). In\n",
    "\n",
    "```\n",
    "./data_wrangling/auditing/streets.py\n",
    "```\n",
    "\n",
    "the cleaning of street names is implemented using a mixture of simple heuristics, regular expressions and a known stoplist. Initial simple assumption about the nature of street names quickly proved to be naive, leading to more and more additions to the ruleset. Occurrences of the `Str.` abbreviation are normalized to the full word, `Straße`. The files `collect_street_names.py` and `test_street_names.py` were implemented to validate the rules and assumptions. Here's an output of the automatic auditing:\n",
    "\n",
    "```\n",
    "  Skipped \"Allee der Kosmonauten/ Märkische Allee\": Not a street.\n",
    "Corrected \"Bergstrasse\" to \"Bergstraße\".\n",
    "Corrected \"Blankenfelder Str.\" to \"Blankenfelder Straße\".\n",
    "  Skipped \"Eichner Grenzweg/Ahrensfelder Chaussee\": Not a street.\n",
    "Corrected \"Ernst Zinna Weg\" to \"Ernst-Zinna-Weg\".\n",
    "Corrected \"Stadtrandstaße\" to \"Stadtrandstraße\".\n",
    "Corrected \"Strandpromedade\" to \"Strandpromenade\".\n",
    "  Skipped \"U-Bahnhof Alt-Tempelhof\": Not a street.\n",
    "Corrected \"Waterloo Ufer\" to \"Waterloo-Ufer\".\n",
    "```\n",
    "\n",
    "For uncorrectable cases such as `Allee der Kosmonauten/ Märkische Allee`, which is a crossroad, the tag in question was removed altogether in `import.py`. Street names as referenced in train stations (e.g. `S+U Bornholmer Str.`) were not addressed, since these occurrences need not necessarily reference a street, but could also relate to crossroads, parks or suburbs in general."
   ]
  },
  {
   "cell_type": "markdown",
   "metadata": {},
   "source": [
    "Additional audit actions can be added by subclassing the `AuditTag` class defined in \n",
    "\n",
    "\n",
    "```\n",
    "./data_wrangling/auditing/AuditTag.py\n",
    "```\n",
    "\n",
    "and adding them to the `audit_pipeline` array in `import.py`. Only a single audit step was added there for the scope of this project in order to show understanding of the concept. Re-importing (parts of) the data over and over is a time consuming effort, especially in the presence of errors that only occur rarely. Instead, it was opted for importing the data first, then fixing occurrences of errors directly in the database later, should they appear. Adding another audit step to address these in future imports is then an easy task.\n",
    "\n",
    "## Querying the database\n",
    "\n",
    "Let's now have a look at the imported dataset by obtaining a database connection to the MongoDB server.\n",
    "Using [Docker](https://www.docker.com/) and [Docker Compose](https://docs.docker.com/compose/), a working database instance can be quickly spun up by calling \n",
    "\n",
    "```bash\n",
    "docker-compose up\n",
    "```\n",
    "\n",
    "in the project's directory. After the database instance is started (and the data is imported using `import.py`), we can connect to the database collection and query it."
   ]
  },
  {
   "cell_type": "code",
   "execution_count": 3,
   "metadata": {},
   "outputs": [],
   "source": [
    "%load_ext autoreload\n",
    "%autoreload 2\n",
    "\n",
    "import pymongo\n",
    "connection = pymongo.MongoClient('mongodb://localhost/dand')\n",
    "berlin = connection.get_default_database().get_collection('osm_berlin')"
   ]
  },
  {
   "cell_type": "markdown",
   "metadata": {},
   "source": [
    "Let's determine the number of distinct users who contributed to the map region:"
   ]
  },
  {
   "cell_type": "code",
   "execution_count": 4,
   "metadata": {
    "scrolled": true
   },
   "outputs": [
    {
     "name": "stdout",
     "output_type": "stream",
     "text": [
      "6622\n"
     ]
    }
   ],
   "source": [
    "distinct_users = berlin.distinct('user.name')\n",
    "print(len(distinct_users))"
   ]
  },
  {
   "cell_type": "markdown",
   "metadata": {},
   "source": [
    "There are about 6.6k user names; if everything is correct, there should be as many user IDs as there are users:"
   ]
  },
  {
   "cell_type": "code",
   "execution_count": 5,
   "metadata": {},
   "outputs": [
    {
     "name": "stdout",
     "output_type": "stream",
     "text": [
      "6622\n"
     ]
    }
   ],
   "source": [
    "print(len(berlin.distinct('user.id')))"
   ]
  },
  {
   "cell_type": "markdown",
   "metadata": {},
   "source": [
    "We find that the numbers are consistent. Here is a random sample of `10` user names from the previously loaded list:"
   ]
  },
  {
   "cell_type": "code",
   "execution_count": 6,
   "metadata": {},
   "outputs": [
    {
     "name": "stdout",
     "output_type": "stream",
     "text": [
      "- Markus W\n",
      "- MapperJannis\n",
      "- seawolff\n",
      "- franzi_is24\n",
      "- HellSpawn\n",
      "- gerdwander\n",
      "- Martin Berlin\n",
      "- Marvin1998\n",
      "- Anfänger-Eva\n",
      "- empty\n"
     ]
    }
   ],
   "source": [
    "import random\n",
    "print('- ' + '\\n- '.join(random.choices(distinct_users, k=10)))"
   ]
  },
  {
   "cell_type": "markdown",
   "metadata": {},
   "source": [
    "We now import our queries."
   ]
  },
  {
   "cell_type": "code",
   "execution_count": 119,
   "metadata": {},
   "outputs": [],
   "source": [
    "from data_wrangling.queries import *"
   ]
  },
  {
   "cell_type": "markdown",
   "metadata": {},
   "source": [
    "Since the data model in MongoDB follows the original XML structure where possible, we can easily query for the different number of \"top-level\" tags, concretely `node`, `way` and `relation`. We can make use of the MongoDB aggregation pipeline, specifically its `$group` operator."
   ]
  },
  {
   "cell_type": "code",
   "execution_count": 8,
   "metadata": {},
   "outputs": [
    {
     "name": "stdout",
     "output_type": "stream",
     "text": [
      "relation : 14715\n",
      "way      : 935054\n",
      "node     : 6007591\n"
     ]
    }
   ],
   "source": [
    "print(get_tag_types(berlin))"
   ]
  },
  {
   "cell_type": "markdown",
   "metadata": {},
   "source": [
    "We find that we have about 6 million `node`s, 0.9 million `way`s and about 15k `relation`s stored; these are the numbers we previously found by scanning the OSM XML file directly.\n",
    "Alternatively, we could have used the regular `.find()` function with `.count()`."
   ]
  },
  {
   "cell_type": "code",
   "execution_count": 24,
   "metadata": {},
   "outputs": [
    {
     "data": {
      "text/plain": [
       "6007591"
      ]
     },
     "execution_count": 24,
     "metadata": {},
     "output_type": "execute_result"
    }
   ],
   "source": [
    "count_elems(berlin, 'node')"
   ]
  },
  {
   "cell_type": "markdown",
   "metadata": {},
   "source": [
    "We can also query for `tag` values directly. Let's investigate how many public telephones ([amenity=telephone](https://wiki.openstreetmap.org/wiki/Tag:amenity=telephone)) we find in the region:"
   ]
  },
  {
   "cell_type": "code",
   "execution_count": 25,
   "metadata": {},
   "outputs": [
    {
     "data": {
      "text/plain": [
       "1327"
      ]
     },
     "execution_count": 25,
     "metadata": {},
     "output_type": "execute_result"
    }
   ],
   "source": [
    "count_tags(berlin, 'tags.amenity', 'telephone')"
   ]
  },
  {
   "cell_type": "markdown",
   "metadata": {},
   "source": [
    "As it turns out, there are about 1.3k public telephones mapped. Here's the location of the first match:"
   ]
  },
  {
   "cell_type": "code",
   "execution_count": 11,
   "metadata": {},
   "outputs": [
    {
     "data": {
      "text/plain": [
       "{'loc': {'coordinates': [13.4054777, 52.5374226]}}"
      ]
     },
     "execution_count": 11,
     "metadata": {},
     "output_type": "execute_result"
    }
   ],
   "source": [
    "berlin.find_one({'tags.amenity': 'telephone'}, \n",
    "                {'loc.coordinates': 1, '_id': 0})"
   ]
  },
  {
   "cell_type": "markdown",
   "metadata": {},
   "source": [
    "The coordinate of 52.537 degree latitude and 13.405 degree longitude corresponds to [this location](https://www.openstreetmap.de/karte.html?zoom=19&lat=52.5374&lon=13.40542&layers=B000TT) on the map.\n",
    "\n",
    "<br/>\n",
    "\n",
    "![](assets/telephone_cell.jpg)\n",
    "\n",
    "<br/>"
   ]
  },
  {
   "cell_type": "markdown",
   "metadata": {},
   "source": [
    "Using that location we can now look up the closest house address and obtain the distance to it in meters, again using the aggregation pipeline and its `$geoNear` operator:"
   ]
  },
  {
   "cell_type": "code",
   "execution_count": 28,
   "metadata": {},
   "outputs": [
    {
     "data": {
      "text/plain": [
       "{'addr': {'house_no': '238', 'street': 'Schwedter Straße'},\n",
       " 'coordinates': [13.4056601, 52.5371603],\n",
       " 'distance_meters': 31.66807964339603}"
      ]
     },
     "execution_count": 28,
     "metadata": {},
     "output_type": "execute_result"
    }
   ],
   "source": [
    "get_closest_address(berlin, [13.4054777, 52.5374226])"
   ]
  },
  {
   "cell_type": "markdown",
   "metadata": {},
   "source": [
    "From the image (and map) we can see that the returned answer, `Schwedter Straße 238` ([map](https://www.openstreetmap.de/karte.html?zoom=19&lat=52.5371603&lon=13.4056601&layers=B000TT)), seems correct and the distance is plausible."
   ]
  },
  {
   "cell_type": "markdown",
   "metadata": {},
   "source": [
    "As already established, not all data was cleaned automatically during import. Querying for the set of suburb names used in addresses gives an example for incorrect data. Here's the first ten suburb names as returned from the query:"
   ]
  },
  {
   "cell_type": "code",
   "execution_count": 13,
   "metadata": {},
   "outputs": [
    {
     "data": {
      "text/plain": [
       "['Mitte',\n",
       " 'Prenzlauer Berg',\n",
       " 'Tiergarten',\n",
       " 'Charlottenburg',\n",
       " 'Moabit',\n",
       " 'Halensee',\n",
       " 'Nikolassee',\n",
       " 'Hansaviertel',\n",
       " 'Bohnsdorf',\n",
       " 'Spandau']"
      ]
     },
     "execution_count": 13,
     "metadata": {},
     "output_type": "execute_result"
    }
   ],
   "source": [
    "distinct_suburbs = berlin.distinct('tags.addr:suburb')\n",
    "distinct_suburbs[:10]"
   ]
  },
  {
   "cell_type": "markdown",
   "metadata": {},
   "source": [
    "All of them are correct. An instance of an incorrectly spelled suburb is the occurrence of `Bergholz-Rebrücke` (which is missing an `h`) alongside the correctly spelled variant ([`Bergholz-Rehbrücke`](https://de.wikipedia.org/wiki/Bergholz-Rehbr%C3%BCcke)):"
   ]
  },
  {
   "cell_type": "code",
   "execution_count": 14,
   "metadata": {},
   "outputs": [
    {
     "data": {
      "text/plain": [
       "['Bergholz-Rehbrücke', 'Bergholz-Rebrücke']"
      ]
     },
     "execution_count": 14,
     "metadata": {},
     "output_type": "execute_result"
    }
   ],
   "source": [
    "[s for s in distinct_suburbs if s.startswith('Bergholz')]"
   ]
  },
  {
   "cell_type": "markdown",
   "metadata": {},
   "source": [
    "This showcases another problem of the extracted map region: Due to its rectangular nature it also contains regions from outside Berlin; in this case, the suburb is really related to the city of Potsdam."
   ]
  },
  {
   "cell_type": "markdown",
   "metadata": {},
   "source": [
    "# Street types"
   ]
  },
  {
   "cell_type": "markdown",
   "metadata": {},
   "source": [
    "Let's see how many streets are dedicated to a person:"
   ]
  },
  {
   "cell_type": "code",
   "execution_count": 41,
   "metadata": {},
   "outputs": [
    {
     "data": {
      "text/plain": [
       "171304"
      ]
     },
     "execution_count": 41,
     "metadata": {},
     "output_type": "execute_result"
    }
   ],
   "source": [
    "count_street_types_by_suffix(berlin, 'straße')"
   ]
  },
  {
   "cell_type": "markdown",
   "metadata": {},
   "source": [
    "Let's see how many streets are related to a place by looking at streets ending in ` Straße` or `-Straße`:"
   ]
  },
  {
   "cell_type": "code",
   "execution_count": 42,
   "metadata": {},
   "outputs": [
    {
     "data": {
      "text/plain": [
       "110362"
      ]
     },
     "execution_count": 42,
     "metadata": {},
     "output_type": "execute_result"
    }
   ],
   "source": [
    "count_street_types_by_regex(berlin, '-?Straße$')"
   ]
  },
  {
   "cell_type": "markdown",
   "metadata": {},
   "source": [
    "We can now ask the question for the streets in each district. Right now this needs to be done using the `node` elements since `way` elements only hold ID references. This can be simplified by duplicating coordinate information of `node`s in `way`s and indexing the paths as either lines or closed polygons, depending on the `way` type."
   ]
  },
  {
   "cell_type": "code",
   "execution_count": 52,
   "metadata": {},
   "outputs": [
    {
     "name": "stdout",
     "output_type": "stream",
     "text": [
      "Finding streets in Charlottenburg-Wilmersdorf ...\n",
      "Finding streets in Friedrichshain-Kreuzberg ...\n",
      "Finding streets in Lichtenberg ...\n",
      "Finding streets in Marzahn-Hellersdorf ...\n",
      "Finding streets in Mitte ...\n",
      "Finding streets in Neukölln ...\n",
      "Finding streets in Pankow ...\n",
      "Finding streets in Reinickendorf ...\n",
      "Finding streets in Spandau ...\n",
      "Finding streets in Steglitz-Zehlendorf ...\n",
      "Finding streets in Tempelhof-Schöneberg ...\n",
      "Finding streets in Treptow-Köpenick ...\n"
     ]
    }
   ],
   "source": [
    "from supplemental import get_district_geojson\n",
    "district_bounds = get_district_geojson()\n",
    "streets = get_streets_per_district(berlin, district_bounds)"
   ]
  },
  {
   "cell_type": "markdown",
   "metadata": {},
   "source": [
    "Here's a sample of street names in Berlin Mitte:"
   ]
  },
  {
   "cell_type": "code",
   "execution_count": 53,
   "metadata": {},
   "outputs": [
    {
     "data": {
      "text/plain": [
       "['Ackerstraße',\n",
       " 'Adalbertstraße',\n",
       " 'Adele-Schreiber-Krieger-Straße',\n",
       " 'Adolfstraße',\n",
       " 'Afrikanische Straße',\n",
       " 'Agricolastraße',\n",
       " 'Albrechtstraße',\n",
       " 'Alex-Wedding-Straße',\n",
       " 'Alexanderplatz',\n",
       " 'Alexanderstraße']"
      ]
     },
     "execution_count": 53,
     "metadata": {},
     "output_type": "execute_result"
    }
   ],
   "source": [
    "streets['Mitte'][:10]"
   ]
  },
  {
   "cell_type": "markdown",
   "metadata": {},
   "source": [
    "Since the districts vary in size by a big amount, we can now weigh the results by the respective area of the district, giving us the number of streets per unit area. Here's the calculated area of [Berlin Mitte](https://en.wikipedia.org/wiki/Mitte), which should be approximately 39.5 km²."
   ]
  },
  {
   "cell_type": "code",
   "execution_count": 56,
   "metadata": {},
   "outputs": [
    {
     "data": {
      "text/plain": [
       "39.31388700279854"
      ]
     },
     "execution_count": 56,
     "metadata": {},
     "output_type": "execute_result"
    }
   ],
   "source": [
    "areas = get_district_areas(district_bounds, 0.001)\n",
    "areas['Mitte']"
   ]
  },
  {
   "cell_type": "markdown",
   "metadata": {},
   "source": [
    "When we plot the number of streets against the district area of each district, we find an interesting correlation:"
   ]
  },
  {
   "cell_type": "code",
   "execution_count": 100,
   "metadata": {},
   "outputs": [
    {
     "data": {
      "image/png": "[encoded data removed]",
      "text/plain": [
       "<Figure size 720x360 with 2 Axes>"
      ]
     },
     "metadata": {},
     "output_type": "display_data"
    }
   ],
   "source": [
    "from data_wrangling.plots import *\n",
    "%matplotlib inline\n",
    "plot_street_counts(streets, areas)"
   ]
  },
  {
   "cell_type": "markdown",
   "metadata": {},
   "source": [
    "We find that the inner districts of Berlin have a much denser net of streets, whereas the bigger outer districts have only as few as 1/3rd of the number of streets of the smallest district. A notable exception is the district of Pankow, which only recently was fused from three former districts, Pankow, Prenzlauer Berg and Weißensee, the latter of which contributes to the size most."
   ]
  },
  {
   "cell_type": "markdown",
   "metadata": {},
   "source": [
    "We can now have a look at the distribution of streets dedicated to places and persons. Since there is a plethora of different street suffixes, such as `Weg` (way) or `Allee` (avenue), `Platz` (place) etc., we'll just sample `Straße`-named streets instead."
   ]
  },
  {
   "cell_type": "code",
   "execution_count": 118,
   "metadata": {},
   "outputs": [
    {
     "data": {
      "image/png": "[encoded data removed]",
      "text/plain": [
       "<Figure size 720x360 with 3 Axes>"
      ]
     },
     "metadata": {},
     "output_type": "display_data"
    }
   ],
   "source": [
    "plot_street_counts_by_type(streets, areas)"
   ]
  },
  {
   "cell_type": "markdown",
   "metadata": {},
   "source": [
    "Apart from a few exceptions (Lichtenberg, Marzahn-Hellersdorf and Charlottenburg-Wilmersdorf), we find that there are more streets dedicated to persons than to places. However, some districts (such as Neukölln, Reinickendorf and Spandau) have an extremely high amount of _other_ street types in comparison. Since Treptow-Köpenick, Spandau and Reinickendorf are some of the greener, outer districts of Berlin, one would assume to find more smaller street types (such as `Weg`) there, however Neukölln does not quite fit this assumption. \n",
    "\n",
    "We could dive deeper into this by determining and examining common suffixes as well; it could be interesting to see as well whether one would be able to predict a district given only a street name."
   ]
  },
  {
   "cell_type": "markdown",
   "metadata": {},
   "source": [
    "To investigate whether there is a correlation to the \"greenness\" of the district, we can obtain the number of mapped trees in these districts and compare them; for the outer districts we might expect a much higher count."
   ]
  },
  {
   "cell_type": "code",
   "execution_count": 124,
   "metadata": {},
   "outputs": [
    {
     "data": {
      "text/plain": [
       "13429"
      ]
     },
     "execution_count": 124,
     "metadata": {},
     "output_type": "execute_result"
    }
   ],
   "source": [
    "get_trees_in_region(berlin, district_bounds['Mitte'])"
   ]
  },
  {
   "cell_type": "code",
   "execution_count": 125,
   "metadata": {},
   "outputs": [
    {
     "data": {
      "text/plain": [
       "13536"
      ]
     },
     "execution_count": 125,
     "metadata": {},
     "output_type": "execute_result"
    }
   ],
   "source": [
    "get_trees_in_region(berlin, district_bounds['Neukölln'])"
   ]
  },
  {
   "cell_type": "code",
   "execution_count": 126,
   "metadata": {},
   "outputs": [
    {
     "data": {
      "text/plain": [
       "2582"
      ]
     },
     "execution_count": 126,
     "metadata": {},
     "output_type": "execute_result"
    }
   ],
   "source": [
    "get_trees_in_region(berlin, district_bounds['Spandau'])"
   ]
  },
  {
   "cell_type": "markdown",
   "metadata": {},
   "source": [
    "From the initial queries, this does not seem to be consistent. One reason for this could be that forests areas are not entirely mapped; it could also be, counter-intuitively, that the correlation is antiproportional."
   ]
  },
  {
   "cell_type": "markdown",
   "metadata": {},
   "source": [
    "## Further improvements\n",
    "\n",
    "As stated already, one particular improvement for the investigation would be to extend `way` nodes with actual geocoordinates (rather than node references), so they become queryable directly. This leads to extreme data redundancy with increased disk and memory requirements, but could massively speed up queries. One particular concept and best practice of document oriented databases such as MongoDB is the denormalization of data in order to make every document self-contained; this is in contrast to relational databases, where strict normalization would be the goal. This could also benefit other queries, as e.g. train station platforms appear to be stored as polygons (`way`s) rather than `node`s.\n",
    "\n",
    "If all queries target the differences between districts, splitting the data into separate district collections in the database directly would improve performance massively.\n",
    "For other queries, such as \"which is the route from district A to B with the highest number of trees per kilometer traveled\", storing the data into a graph database might be more efficient."
   ]
  }
 ],
 "metadata": {
  "kernelspec": {
   "display_name": "Python [conda env:dand-osm]",
   "language": "python",
   "name": "conda-env-dand-osm-py"
  },
  "language_info": {
   "codemirror_mode": {
    "name": "ipython",
    "version": 3
   },
   "file_extension": ".py",
   "mimetype": "text/x-python",
   "name": "python",
   "nbconvert_exporter": "python",
   "pygments_lexer": "ipython3",
   "version": "3.6.5"
  }
 },
 "nbformat": 4,
 "nbformat_minor": 2
}
